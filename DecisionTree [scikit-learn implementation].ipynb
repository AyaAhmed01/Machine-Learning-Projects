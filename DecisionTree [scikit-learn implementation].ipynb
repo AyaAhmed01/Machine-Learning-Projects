{
  "cells": [
    {
      "cell_type": "markdown",
      "metadata": {
        "id": "view-in-github",
        "colab_type": "text"
      },
      "source": [
        "<a href=\"https://colab.research.google.com/github/AyaAhmed01/Machine-Learning-Projects/blob/main/DecisionTree%20%5Bscikit-learn%20implementation%5D.ipynb\" target=\"_parent\"><img src=\"https://colab.research.google.com/assets/colab-badge.svg\" alt=\"Open In Colab\"/></a>"
      ]
    },
    {
      "cell_type": "code",
      "execution_count": null,
      "metadata": {
        "id": "UhT9Zw5J8ham",
        "outputId": "384840ea-baae-4ccf-a179-a4f8193e6b3a"
      },
      "outputs": [
        {
          "name": "stdout",
          "output_type": "stream",
          "text": [
            "time for training:  0.4428551197052002\n"
          ]
        }
      ],
      "source": [
        "# - Create and train another decision tree instance using scikit-learn library (make sure it uses same\n",
        "# algorithm - ID3).\n",
        "# - print model's: time needed for training, time for prediction, and model performance.\n",
        "\n",
        "from sklearn.tree import DecisionTreeClassifier\n",
        "from sklearn.model_selection import train_test_split\n",
        "import numpy as np\n",
        "import os\n",
        "import pandas as pd\n",
        "# To plot pretty figures\n",
        "%matplotlib inline\n",
        "import matplotlib as mpl\n",
        "import matplotlib.pyplot as plt\n",
        "import six\n",
        "import sys\n",
        "import time\n",
        "sys.modules['sklearn.externals.six'] = six\n",
        "from id3 import Id3Estimator\n",
        "\n",
        "\n",
        "df = pd.read_csv('cardio_train.csv', sep=\";\")\n",
        "X = df[df.columns[:-1]]\n",
        "y = df.cardio\n",
        "\n",
        "# divide 70% train, 30% test\n",
        "X_train, X_test, y_train, y_test = train_test_split(X, y, train_size=49000, test_size=21000, random_state=0)\n",
        "# model = Id3Estimator()\n",
        "model = DecisionTreeClassifier(criterion=\"entropy\")\n",
        "\n",
        "# calculate time for training\n",
        "start_tr = time.time()\n",
        "model.fit(X_train, y_train)\n",
        "end_tr = time.time()\n",
        "print(\"time for training: \", end_tr - start_tr)"
      ]
    },
    {
      "cell_type": "code",
      "execution_count": null,
      "metadata": {
        "id": "jg-PWwFo8han",
        "outputId": "3875257e-3b71-4e4f-b75b-1c27dd4b5cb7"
      },
      "outputs": [
        {
          "name": "stdout",
          "output_type": "stream",
          "text": [
            "time for predicting:  0.010994672775268555\n",
            "0.6383333333333333 1.0\n"
          ]
        }
      ],
      "source": [
        "# calculate time for test\n",
        "start_ts = time.time()\n",
        "model.predict(X_test)\n",
        "end_ts = time.time()\n",
        "print(\"time for predicting: \", end_ts - start_ts)\n",
        "\n",
        "# performance\n",
        "test_score = model.score(X_test, y_test)\n",
        "train_score = model.score(X_train, y_train)\n",
        "print(test_score, train_score)"
      ]
    },
    {
      "cell_type": "code",
      "execution_count": null,
      "metadata": {
        "id": "NimpFvFT8hao"
      },
      "outputs": [],
      "source": []
    }
  ],
  "metadata": {
    "kernelspec": {
      "display_name": "Python 3",
      "language": "python",
      "name": "python3"
    },
    "language_info": {
      "codemirror_mode": {
        "name": "ipython",
        "version": 3
      },
      "file_extension": ".py",
      "mimetype": "text/x-python",
      "name": "python",
      "nbconvert_exporter": "python",
      "pygments_lexer": "ipython3",
      "version": "3.8.5"
    },
    "colab": {
      "provenance": [],
      "include_colab_link": true
    }
  },
  "nbformat": 4,
  "nbformat_minor": 0
}